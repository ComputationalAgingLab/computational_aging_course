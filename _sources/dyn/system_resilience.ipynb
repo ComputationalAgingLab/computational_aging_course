{
 "cells": [
  {
   "cell_type": "markdown",
   "metadata": {},
   "source": [
    "# System resilience\n",
    "\n",
    "Example of system resilience problem\n",
    "\n",
    "At some point of accumulating evidences about object of study we stop just speculating about its properties and start mathematical modelling. \n",
    "\n",
    "**Meta plan**\n",
    "* Find ground literature on this staff\n",
    "\n",
    "**Plan**\n",
    "* Recap differential equations\n",
    "    * linear ODE\n",
    "    * nonlinear ode\n",
    "    * numerical integration\n",
    "* Stability theory and bifurcations\n",
    "    * Lyapunov stability\n",
    "    * Potential equation\n",
    "    * Tipping points and bifurcations (fold bifurcation)\n",
    "    * Example of system\n",
    "* System ODE\n",
    "    * Stability in linear multidimensional case\n",
    "    * Nonlinear systems\n",
    "    * Linear approximations around tipping point\n",
    "    * Univesality principle\n",
    "    * Example complex system aging and \n",
    "* Critical slowing down\n",
    "    * real data case\n",
    "    * construct resilience indicator from data?\n",
    "    * fitting a stochastic differential equation from data?\n",
    "    * resilience analysis and maximal theoretical lifespan prediction.\n"
   ]
  },
  {
   "cell_type": "markdown",
   "metadata": {},
   "source": [
    "## Recap differential equations\n",
    "\n",
    "In general, a differential equation is written as\n",
    "\n",
    "$$\n",
    "  \\dot{x} = f(x, t)\n",
    "$$ (diff_eq)\n",
    "\n",
    "where f(x, t) - given function of time $t$ and state variable $x$ itself. Note, that $x=x(t)$ is also a function of time, hence, $\\dot{x} = dx(t)/dt = dx/dt$ - we omit $(t)$ for simplicity. A huge body of knowledge of differential equations theory has been elaborated for ages. In this tutorial we only touch the most important topics needed for understanding complex systems resilience introduced in the previous chapter."
   ]
  },
  {
   "cell_type": "markdown",
   "metadata": {},
   "source": [
    "### Linear ordinary differential equations\n",
    "\n",
    "First, let's start from the most simplest cases:\n",
    "\n",
    "$$ \n",
    "    \\dot{x} = a \n",
    "$$\n",
    "\n",
    "here $a$ is a constant;\n",
    "\n",
    "$$ \n",
    "    \\frac{dx}{dt} = a \n",
    "$$\n",
    "$$ \n",
    "    dx = a\\cdot dt \n",
    "$$\n",
    "\n",
    "integrate both sides,\n",
    "\n",
    "$$ \n",
    "    \\int dx = a \\int dt \n",
    "$$\n",
    "$$\n",
    "    x(t) = at + C\n",
    "$$ (ex_sol_1)\n",
    "\n",
    "where constant $C$ is defined from initial conditions. This is the simplest case of separable equation (s.t. you can separate variable $x$ from $t$ on both sides). The next case:\n",
    "\n",
    "$$ \n",
    "    \\dot{x} = ax \n",
    "$$\n",
    "$$ \n",
    "    \\int \\frac{dx}{x} = a\\int dt \n",
    "$$\n",
    "$$ \n",
    "    \\ln(x(t)) = at + C\n",
    "$$\n",
    "$$ \n",
    "    x(t) = e^Ce^{at} = C_1e^{at}\n",
    "$$ (ex_sol_2)\n",
    "\n",
    "The latter case is also known as **homogeneous** differential equation because it doesn't have terms free of $x$, in other words we can rewrite this equation as $\\dot{x} - ax = 0$. Let's draw the solutions {eq}`ex_sol_1`, {eq}`ex_sol_2`.  \n"
   ]
  },
  {
   "cell_type": "code",
   "execution_count": 16,
   "metadata": {},
   "outputs": [
    {
     "data": {
      "image/png": "[encoded data removed]",
      "text/plain": [
       "<Figure size 432x288 with 1 Axes>"
      ]
     },
     "metadata": {
      "needs_background": "light"
     },
     "output_type": "display_data"
    }
   ],
   "source": [
    "import matplotlib.pyplot as plt\n",
    "import numpy as np\n",
    "plt.rcParams['font.size'] = '16' # increase font size\n",
    "\n",
    "x1 = lambda t, a, C: a*t + C\n",
    "x2 = lambda t, a, C: np.exp(a*t) * np.exp(C)\n",
    "\n",
    "t = np.linspace(0, 1.5, 100)\n",
    "C = 1\n",
    "\n",
    "fig, ax = plt.subplots(1, 1)\n",
    "ax.set_xlabel('Time')\n",
    "ax.set_ylabel('Value')\n",
    "ax.plot(t, x1(t, 1, C), label='x\\' = 1');\n",
    "ax.plot(t, x2(t, 1, C), label='x\\' = x');\n",
    "ax.plot(t, x2(t, -1, C), label='x\\' = -x');\n",
    "ax.axhline(0, color='grey', ls='--')\n",
    "ax.axvline(0, color='grey', ls='--')\n",
    "ax.grid(alpha=0.5)\n",
    "ax.legend();"
   ]
  },
  {
   "cell_type": "markdown",
   "metadata": {},
   "source": [
    "Two important observations: (1) the solution of equation {eq}`ex_sol_1` is always diverges, i.e there is no non-zero constant $a$ such that $x(\\infty) \\to Const$; (2) the solution of equation {eq}`ex_sol_2` has two regimes: one at positive constant $a$ - divergence, and one at negative $a$ - convergence to zero. This switching between regimes is something that we call bifurcation. They say a system undergoes a bifurcation as $a$ approaches to zero (from left or right side). Of course, it must be said that the system changes its behavior **qualitatively**."
   ]
  },
  {
   "cell_type": "markdown",
   "metadata": {},
   "source": [
    "### Non-linear ordinary differential equations\n",
    "\n"
   ]
  },
  {
   "cell_type": "markdown",
   "metadata": {},
   "source": [
    "### Numerical integration"
   ]
  },
  {
   "cell_type": "markdown",
   "metadata": {},
   "source": [
    "## Stability theory and bifurcations"
   ]
  },
  {
   "cell_type": "markdown",
   "metadata": {},
   "source": [
    "## System of differential equations\n",
    "\n",
    "consider $\\ddot{x} = f(x)$"
   ]
  },
  {
   "cell_type": "markdown",
   "metadata": {},
   "source": [
    "## Recap differential equations"
   ]
  },
  {
   "cell_type": "markdown",
   "metadata": {},
   "source": []
  },
  {
   "cell_type": "markdown",
   "metadata": {},
   "source": [
    "There is a lot more that you can do with outputs (such as including interactive outputs)\n",
    "with your book. For more information about this, see [the Jupyter Book documentation](https://jupyterbook.org)"
   ]
  }
 ],
 "metadata": {
  "kernelspec": {
   "display_name": "Python 3.9.12 ('base')",
   "language": "python",
   "name": "python3"
  },
  "language_info": {
   "codemirror_mode": {
    "name": "ipython",
    "version": 3
   },
   "file_extension": ".py",
   "mimetype": "text/x-python",
   "name": "python",
   "nbconvert_exporter": "python",
   "pygments_lexer": "ipython3",
   "version": "3.9.12 (main, Apr  5 2022, 06:56:58) \n[GCC 7.5.0]"
  },
  "vscode": {
   "interpreter": {
    "hash": "9cc5c02ec159c51136dfe17d30cc7c517e8bd5f837511b190fe7a062de554837"
   }
  },
  "widgets": {
   "application/vnd.jupyter.widget-state+json": {
    "state": {},
    "version_major": 2,
    "version_minor": 0
   }
  }
 },
 "nbformat": 4,
 "nbformat_minor": 4
}
