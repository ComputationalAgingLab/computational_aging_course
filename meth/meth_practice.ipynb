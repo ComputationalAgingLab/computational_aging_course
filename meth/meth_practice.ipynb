{
 "cells": [
  {
   "cell_type": "markdown",
   "metadata": {},
   "source": [
    "# Weighted gene correlation network analysis (WGCNA)\n",
    "**(applied to DNA methylation data)**\n",
    "\n",
    "This notebook was prepared by [Evgeniy Efimov](https://www.linkedin.com/in/evgeniy-efimov-84152725b) for the course on Computational Biology of Aging."
   ]
  },
  {
   "cell_type": "code",
   "execution_count": null,
   "metadata": {},
   "outputs": [],
   "source": [
    "# Uncomment if you work using Google Colab\n",
    "\n",
    "# The notebook will restart automatically after this cell is executed\n",
    "# !pip install -q condacolab\n",
    "# import condacolab\n",
    "# condacolab.install()"
   ]
  },
  {
   "cell_type": "code",
   "execution_count": null,
   "metadata": {},
   "outputs": [],
   "source": [
    "# import condacolab\n",
    "# condacolab.check()"
   ]
  },
  {
   "cell_type": "code",
   "execution_count": null,
   "metadata": {},
   "outputs": [],
   "source": [
    "# !wget -nv https://raw.githubusercontent.com/GentlemanOfFate/computational_aging_course/main/environment_meth.yml\n",
    "\n",
    "# !mamba env update -n base -f environment_meth.yml"
   ]
  },
  {
   "cell_type": "code",
   "execution_count": null,
   "metadata": {},
   "outputs": [],
   "source": [
    "# !wget -r -np -R -nv https://raw.githubusercontent.com/GentlemanOfFate/computational_aging_course/main/meth/data"
   ]
  },
  {
   "cell_type": "markdown",
   "metadata": {},
   "source": [
    "## Initialization"
   ]
  },
  {
   "cell_type": "code",
   "execution_count": null,
   "metadata": {},
   "outputs": [],
   "source": [
    "import numpy as np\n",
    "import pandas as pd\n",
    "\n",
    "import PyWGCNA\n",
    "import biomart\n",
    "\n",
    "import seaborn as sns\n",
    "\n",
    "data_dir = './data'"
   ]
  },
  {
   "cell_type": "markdown",
   "metadata": {},
   "source": [
    "In this practice, we will perform WGCNA for the dataset of *in vitro* cellular reprogramming in human fibroblasts. The article by Ohnuki *et al.* can be found at https://doi.org/10.1073/pnas.1413299111, and the whole dataset is deposited as [GSE54848](https://www.ncbi.nlm.nih.gov/geo/query/acc.cgi?acc=GSE54848). We have downloaded and pre-processed the data of interest from this set, which includes samples of DNA methylation starting from normal fibroblasts, going through several days of reprogramming, and ending with induced pluripotent stem cells (iPSCs). Human embryonic stem cells (hESCs) are also included for comparison."
   ]
  },
  {
   "cell_type": "markdown",
   "metadata": {},
   "source": [
    "# Part I. Building gene correlation network"
   ]
  },
  {
   "cell_type": "markdown",
   "metadata": {},
   "source": [
    "## Setting up the PyWGCNA object"
   ]
  },
  {
   "cell_type": "code",
   "execution_count": null,
   "metadata": {},
   "outputs": [],
   "source": [
    "metLev = pd.read_pickle(f'{data_dir}/reprog_metlevs.pkl.gz')"
   ]
  },
  {
   "cell_type": "code",
   "execution_count": null,
   "metadata": {},
   "outputs": [],
   "source": [
    "# PyWGCNA was developed for gene expression data, so don't be surprised by such names of variables as geneExp or geneExpr\n",
    "\n",
    "pyWGCNA_reprog = PyWGCNA.WGCNA(name='reprog_metlevs', \n",
    "                               species='homo sapiens', \n",
    "                               geneExp=metLev,\n",
    "                               outputPath='wgcna_reprog_',\n",
    "                               TPMcutoff=0, # since we're working with DNAm, this cutoff is unrelatable and should be zeroed\n",
    "                               save=True)\n",
    "pyWGCNA_reprog.geneExpr.to_df()"
   ]
  },
  {
   "cell_type": "markdown",
   "metadata": {},
   "source": [
    "If we were working with gene expression data, we would next use the `preprocess()` function to remove lowly-expressed genes (with expression levels less than `TPMcutoff`) and genes with too many missing values, and to perform hierarchical clustering (to see if there are any obvious outliers). In our case however, there is no such notion as lowly-methylated sites, and there are no missing values in the data.\n",
    "\n",
    "Therefore, we actually use the `processing()` function only to do the clustering part:"
   ]
  },
  {
   "cell_type": "code",
   "execution_count": null,
   "metadata": {},
   "outputs": [],
   "source": [
    "pyWGCNA_reprog.preprocess()"
   ]
  },
  {
   "cell_type": "markdown",
   "metadata": {},
   "source": [
    "By default, no samples are removed after clustering (at initialization, `pyWGCNA_reprog.cut = inf`)"
   ]
  },
  {
   "cell_type": "markdown",
   "metadata": {},
   "source": [
    "```{admonition} Question 1\n",
    ":class: dropdown\n",
    "Describe what you can infer from this dendrogram. Should we exclude any samples here? If yes, why? **(0.25 pts)**\n",
    "```"
   ]
  },
  {
   "cell_type": "markdown",
   "metadata": {},
   "source": [
    "## Constructing gene network modules"
   ]
  },
  {
   "cell_type": "markdown",
   "metadata": {},
   "source": [
    "Now we get to construct the gene network and identify its modules\n",
    "\n",
    "PyWGCNA function findModules performs all of the required steps in one go:\n",
    "\n",
    "1. Choosing the soft-thresholding power: analysis of network topology\n",
    "2. Co-expression similarity and adjacency\n",
    "3. Topological Overlap Matrix (TOM)\n",
    "4. Clustering using TOM\n",
    "5. Merging of modules whose expression profiles are very similar"
   ]
  },
  {
   "cell_type": "code",
   "execution_count": null,
   "metadata": {},
   "outputs": [],
   "source": [
    "pyWGCNA_reprog.findModules()"
   ]
  },
  {
   "cell_type": "markdown",
   "metadata": {},
   "source": [
    "...\n",
    "\n",
    "Oops, something's gone wrong. The trouble is, PyWGCNA employs a very memory-consuming approach to calculating network connectivity. It is still manageable with gene expression matrices, but with almost 500k sites it becomes unbearable for any RAM we can get our hands on in this course (even if we decrease block size). We have three obvious options:\n",
    "\n",
    "1. Sample (randomly or not) fewer sites\n",
    "2. Annotate sites along their genes and combine them gene-wise\n",
    "3. Delve into the PyWGCNA code and rewrite the `pickSoftThreshold()` function so that it would consume less memory --> git commit?\n",
    "\n",
    "Option 3 seems like a nice opportunity for a final project, don't you think? That's why we're skipping it for now.\n",
    "\n",
    "Let's choose option 2 over option 1, because it will instantly return us to the realm of genes rather than methylation sites, which is exactly the type of data PyWGCNA is used to work with.\n",
    "\n",
    "How exactly can we do that? If you were on your own, you would have to peruse through the Illumina website to find microarray probe annotations and process them. Luckily for you, we've already done it and provided you with simplified annotations."
   ]
  },
  {
   "cell_type": "code",
   "execution_count": null,
   "metadata": {},
   "outputs": [],
   "source": [
    "illumina_anno = pd.read_csv(f'{data_dir}/Illumina_850k_v2_annotation_cleaned.csv.gz', index_col=0)\n",
    "illumina_anno.head(5)"
   ]
  },
  {
   "cell_type": "code",
   "execution_count": null,
   "metadata": {},
   "outputs": [],
   "source": [
    "reprog_sites_anno = illumina_anno.loc[illumina_anno.index.intersection(pyWGCNA_reprog.geneExpr.var.index)]\n",
    "print(f'Out of {pyWGCNA_reprog.geneExpr.var.shape[0]} sites from the reprogramming dataset, {reprog_sites_anno.shape[0]} were annotated')\n",
    "\n",
    "reprog_sites_anno.to_csv(f'{data_dir}/reprog_sites_annotation.csv')"
   ]
  },
  {
   "cell_type": "markdown",
   "metadata": {},
   "source": [
    "Since methylation sites in promoters and gene bodies tend to show different methylation patterns, let's focus our today's analysis on the promoter sites only (i.e., sites located in the vicinity of transcription start sites)."
   ]
  },
  {
   "cell_type": "code",
   "execution_count": null,
   "metadata": {},
   "outputs": [],
   "source": [
    "reprog_sites_anno_promoters = reprog_sites_anno.copy()\n",
    "\n",
    "reprog_sites_anno_promoters.loc[\n",
    "    ~reprog_sites_anno_promoters['Group'].astype(str).str.contains('TSS') & \\\n",
    "    ~reprog_sites_anno_promoters['Group_Gencode'].astype(str).str.contains('TSS'), \n",
    "    ['Group', 'Group_Gencode']] = np.nan\n",
    "\n",
    "reprog_sites_anno_promoters.dropna(subset=['Group', 'Group_Gencode'], how='all', inplace=True)\n",
    "\n",
    "reprog_sites_anno_promoters.to_csv(f'{data_dir}/reprog_sites_promoters_annotation.csv')\n",
    "\n",
    "reprog_sites_anno_promoters.head(5)"
   ]
  },
  {
   "cell_type": "markdown",
   "metadata": {},
   "source": [
    "PyWGCNA has a function to retrieve annotation data from Ensembl Biomart, `PyWGCNA.getGeneList()`. But it works so unbearably slow that we chose to do it our own way, using the Python `biomart` module"
   ]
  },
  {
   "cell_type": "code",
   "execution_count": null,
   "metadata": {},
   "outputs": [],
   "source": [
    "# Set up connection to server\n",
    "server = biomart.BiomartServer('http://ensembl.org/biomart')\n",
    "mart = server.datasets['hsapiens_gene_ensembl']\n",
    "\n",
    "# List the types of data we want\n",
    "attributes = ['ensembl_transcript_id', 'hgnc_symbol', \n",
    "              'ensembl_gene_id',  'gene_biotype', 'transcript_biotype']\n",
    "\n",
    "# Get the mapping between the attributes\n",
    "response = mart.search({'attributes': attributes})\n",
    "data = response.raw.data.decode('ascii')\n",
    "\n",
    "genes_trascripts_df = pd.DataFrame(data.splitlines())\n",
    "genes_trascripts_df[attributes] = genes_trascripts_df[0].str.split('\\t', expand=True)\n",
    "genes_trascripts_df.drop(0, axis=1, inplace=True)\n",
    "\n",
    "genes_trascripts_df.head(5)"
   ]
  },
  {
   "cell_type": "code",
   "execution_count": null,
   "metadata": {},
   "outputs": [],
   "source": [
    "# First let's check if there are matching transcript IDs\n",
    "genes_trascripts_matched1 = genes_trascripts_df.merge(\n",
    "    reprog_sites_anno_promoters.reset_index(), \n",
    "    how='inner', left_on='ensembl_transcript_id', right_on='Transcript_Gencode', sort=False).set_index('index')\n",
    "\n",
    "# Now let's check if there are matching gene names for what's left out\n",
    "genes_trascripts_matched2 = genes_trascripts_df.merge(\n",
    "    reprog_sites_anno_promoters.drop(index=genes_trascripts_matched1.index).reset_index(), \n",
    "    how='inner', left_on='hgnc_symbol', right_on='Gene', sort=False).set_index('index')\n",
    "\n",
    "# And combine them\n",
    "genes_trascripts_matched = pd.concat([genes_trascripts_matched1, genes_trascripts_matched2], copy=False)\n",
    "\n",
    "# Drop some probes that got duplicated in the process\n",
    "genes_trascripts_matched = genes_trascripts_matched.reset_index().drop_duplicates('index', keep='first').set_index('index')\n",
    "\n",
    "# For some reason, some HGNC symbols retrieved from biomart are empty strings. Let's convert what we can using our Illumina annotation\n",
    "genes_trascripts_matched['hgnc_symbol'] = genes_trascripts_matched.apply(\n",
    "    lambda x: x['Gene'] if x['hgnc_symbol']=='' else x['hgnc_symbol'], axis=1)\n",
    "\n",
    "# Select and save only the gene-related information\n",
    "cgGeneList = genes_trascripts_matched[['hgnc_symbol', 'ensembl_gene_id', 'gene_biotype']]\n",
    "cgGeneList.to_csv('./data/cgGeneList.csv')\n",
    "\n",
    "cgGeneList"
   ]
  },
  {
   "cell_type": "code",
   "execution_count": null,
   "metadata": {},
   "outputs": [],
   "source": [
    "pyWGCNA_reprog.geneExpr"
   ]
  },
  {
   "cell_type": "code",
   "execution_count": null,
   "metadata": {},
   "outputs": [],
   "source": [
    "reprog_metlevs_grouped = pyWGCNA_reprog.geneExpr[:, cgGeneList.index].to_df().T.join(\n",
    "    cgGeneList['ensembl_gene_id']).groupby('ensembl_gene_id').mean().T\n",
    "\n",
    "reprog_metlevs_grouped.to_csv(f'{data_dir}/reprog_metlevs_grouped.csv.gz', compression='gzip')\n",
    "reprog_metlevs_grouped"
   ]
  },
  {
   "cell_type": "markdown",
   "metadata": {},
   "source": [
    "## Constructing gene network modules (using combined methylation sites)"
   ]
  },
  {
   "cell_type": "markdown",
   "metadata": {},
   "source": [
    "Here we go again..."
   ]
  },
  {
   "cell_type": "code",
   "execution_count": null,
   "metadata": {},
   "outputs": [],
   "source": [
    "pyWGCNA_reprog_grouped = PyWGCNA.WGCNA(name='metlevs_grouped', \n",
    "                                       species='homo sapiens', \n",
    "                                       geneExp=reprog_metlevs_grouped, \n",
    "                                       outputPath='wgcna_reprog_',\n",
    "                                       TPMcutoff=0,\n",
    "                                       save=True)"
   ]
  },
  {
   "cell_type": "code",
   "execution_count": null,
   "metadata": {},
   "outputs": [],
   "source": [
    "pyWGCNA_reprog_grouped.preprocess()"
   ]
  },
  {
   "cell_type": "markdown",
   "metadata": {},
   "source": [
    "```{admonition} Question 2\n",
    ":class: dropdown\n",
    "Compare this dendrogram with what we've got earlier for the ungrouped matrix. Do you notice any changes? Should we remove any samples in this case? **(0.25 pts)**\n",
    "```"
   ]
  },
  {
   "cell_type": "markdown",
   "metadata": {},
   "source": [
    "Finally, **now** we get to construct the connectivity network.\n",
    "\n",
    "Prepare to wait for a while, we're basically performing a huge computational analysis workflow via a single function"
   ]
  },
  {
   "cell_type": "code",
   "execution_count": null,
   "metadata": {},
   "outputs": [],
   "source": [
    "pyWGCNA_reprog_grouped.findModules()"
   ]
  },
  {
   "cell_type": "markdown",
   "metadata": {},
   "source": [
    "```{admonition} Question 3\n",
    ":class: dropdown\n",
    "Did you notice anything odd about how this function ran? *hint*: if not, look carefully through the log. How do you think, what should we do about this behaviour? **(0.25 pts)**\n",
    "```"
   ]
  },
  {
   "cell_type": "markdown",
   "metadata": {},
   "source": [
    "```{admonition} Question 4\n",
    ":class: dropdown\n",
    "How many modules were identified? What is the main take-away from the last dendrogram? How can we modify WGCNA construction behaviour to change the number of modules retained for analysis? **(0.25 pts)**\n",
    "```"
   ]
  },
  {
   "cell_type": "markdown",
   "metadata": {},
   "source": [
    "### Updating sample information and assiging color to them for dowstream analysis"
   ]
  },
  {
   "cell_type": "code",
   "execution_count": null,
   "metadata": {},
   "outputs": [],
   "source": [
    "sampleInfo = pd.read_csv(f'{data_dir}/meta.csv', index_col=0, dtype=str)\n",
    "pyWGCNA_reprog_grouped.updateSampleInfo(sampleInfo=sampleInfo)\n",
    "pyWGCNA_reprog_grouped.geneExpr.obs"
   ]
  },
  {
   "cell_type": "markdown",
   "metadata": {},
   "source": [
    "Add colors for metadata"
   ]
  },
  {
   "cell_type": "code",
   "execution_count": null,
   "metadata": {},
   "outputs": [],
   "source": [
    "sample_types = pyWGCNA_reprog_grouped.geneExpr.obs['SampleType'].unique()\n",
    "pyWGCNA_reprog_grouped.setMetadataColor('SampleType', {sample_types[i]: sns.color_palette('tab10').as_hex()[i] for i in range(len(sample_types))})\n",
    "\n",
    "reprog_days = pyWGCNA_reprog_grouped.geneExpr.obs['Day'].astype(str).unique()\n",
    "pyWGCNA_reprog_grouped.setMetadataColor('Day', {reprog_days[i]: sns.color_palette('viridis', len(reprog_days)).as_hex()[i] for i in range(len(reprog_days))})"
   ]
  },
  {
   "cell_type": "markdown",
   "metadata": {},
   "source": [
    "### Updating gene information"
   ]
  },
  {
   "cell_type": "code",
   "execution_count": null,
   "metadata": {},
   "outputs": [],
   "source": [
    "# Load genes metadata that we've retrieved from Biomart earlier\n",
    "cgGeneList = pd.read_csv(f'{data_dir}/cgGeneList.csv', index_col=0)\n",
    "geneList = cgGeneList.drop_duplicates('ensembl_gene_id').set_index('ensembl_gene_id').rename(columns={'hgnc_symbol': 'gene_name'})\n",
    "\n",
    "# Add genes metadata to our object\n",
    "pyWGCNA_reprog_grouped.updateGeneInfo(geneList)"
   ]
  },
  {
   "cell_type": "code",
   "execution_count": null,
   "metadata": {},
   "outputs": [],
   "source": [
    "pyWGCNA_reprog_grouped.geneExpr"
   ]
  },
  {
   "cell_type": "markdown",
   "metadata": {},
   "source": [
    "**note**: For downstream analysis, we want to keep aside the Grey module (if there is one), which is the collection of genes that could not be assigned to any other module."
   ]
  },
  {
   "cell_type": "markdown",
   "metadata": {},
   "source": [
    "### Saving and loading your PyWGCNA\n",
    "\n",
    "You can save or load your PyWGCNA object with the `saveWGCNA()` or `readWGCNA()` functions respectively."
   ]
  },
  {
   "cell_type": "code",
   "execution_count": null,
   "metadata": {},
   "outputs": [],
   "source": [
    "pyWGCNA_reprog_grouped.saveWGCNA()"
   ]
  },
  {
   "cell_type": "markdown",
   "metadata": {},
   "source": [
    "## Relating modules to external information and identifying important genes\n",
    "\n",
    "PyWGCNA performs some important analysis after identifying modules in `analyseWGCNA()` function including:\n",
    "\n",
    "1. Quantifying module–trait relationship\n",
    "2. Gene relationship to trait and modules\n",
    "3. Gene-ontology analysis\n",
    "\n",
    "That is why we've added sample and gene information beforehand.\n",
    "\n",
    "For showing module relationship heatmap, PyWGCNA needs user to choose and set colors from Matplotlib colors for metadata by using `setMetadataColor()` function.\n",
    "\n",
    "You also can select which data trait in which order you wish to show in module eigengene heatmap\n",
    "\n",
    "Expect to wait for a while, again..."
   ]
  },
  {
   "cell_type": "code",
   "execution_count": null,
   "metadata": {},
   "outputs": [],
   "source": [
    "pyWGCNA_reprog_grouped = PyWGCNA.readWGCNA(\"wgcna_reprog_metlevs_grouped.p\")\n",
    "pyWGCNA_reprog_grouped.geneExpr"
   ]
  },
  {
   "cell_type": "code",
   "execution_count": null,
   "metadata": {},
   "outputs": [],
   "source": [
    "pyWGCNA_reprog_grouped.analyseWGCNA()"
   ]
  },
  {
   "cell_type": "code",
   "execution_count": null,
   "metadata": {},
   "outputs": [],
   "source": [
    "pyWGCNA_reprog_grouped.saveWGCNA()"
   ]
  },
  {
   "cell_type": "markdown",
   "metadata": {},
   "source": [
    "```{admonition} Question 5\n",
    ":class: dropdown\n",
    "That's a lot of heatmaps and barplots. What can you assume about the dynamics of promoter DNA methylation modules across cellular reprogramming based on these plots (and on what you know about reprogramming and embryonic stem cells)? (0.5 pts)\n",
    "\n",
    "*hint*: Check the `./wgcna_reprog_figures/GO folder`, you might find something useful in there\n",
    "```"
   ]
  },
  {
   "cell_type": "markdown",
   "metadata": {},
   "source": [
    "## Finding hub genes for each modules\n",
    "\n",
    "You can also find hub genes in each module based on their connectivity by using the `top_n_hub_genes()` function.\n",
    "\n",
    "It will give you dataframe sorted by connectivity along with the additional gene information you have in your metadata."
   ]
  },
  {
   "cell_type": "code",
   "execution_count": null,
   "metadata": {},
   "outputs": [],
   "source": [
    "modules = pyWGCNA_reprog_grouped.datExpr.var.moduleColors.unique().tolist()"
   ]
  },
  {
   "cell_type": "code",
   "execution_count": null,
   "metadata": {},
   "outputs": [],
   "source": [
    "pyWGCNA_reprog_grouped.top_n_hub_genes(moduleName=modules[1], n=10)"
   ]
  },
  {
   "cell_type": "markdown",
   "metadata": {},
   "source": [
    "# Part II. Functional enrichment analysis using PyWGCNA"
   ]
  },
  {
   "cell_type": "markdown",
   "metadata": {},
   "source": [
    "After finding coexpression modules, you can investigate each module separately using functional enrichment analysis. PyWGCNA supports this directly from the GO, KEGG, and REACTOME databases using the `functional_enrichment_analysis()` function.\n",
    "\n",
    "Let's get straight into it!"
   ]
  },
  {
   "cell_type": "code",
   "execution_count": null,
   "metadata": {},
   "outputs": [],
   "source": [
    "# Reload PyWGCNA object you've made if you've lost connection or something else...\n",
    "pyWGCNA_reprog_grouped = PyWGCNA.readWGCNA(\"wgcna_reprog_metlevs_grouped.p\")\n",
    "pyWGCNA_reprog_grouped.datExpr.var.moduleColors.value_counts()"
   ]
  },
  {
   "cell_type": "markdown",
   "metadata": {},
   "source": [
    "## Gene ontology (GO) analysis\n",
    "Say we want to investigate the black module. After defining which gene set libraries we want to use, (pick from [here](https://maayanlab.cloud/Enrichr/#libraries)), we make the following call:"
   ]
  },
  {
   "cell_type": "code",
   "execution_count": null,
   "metadata": {},
   "outputs": [],
   "source": [
    "moduleName = 'black'"
   ]
  },
  {
   "cell_type": "code",
   "execution_count": null,
   "metadata": {},
   "outputs": [],
   "source": [
    "pyWGCNA_reprog_grouped.figureType = \"png\"\n",
    "gene_set_library = [\"GO_Biological_Process_2023\", \"GO_Cellular_Component_2023\", \"GO_Molecular_Function_2023\"]\n",
    "pyWGCNA_reprog_grouped.functional_enrichment_analysis(type=\"GO\",\n",
    "                                                      moduleName=moduleName,\n",
    "                                                      sets=gene_set_library,\n",
    "                                                      p_value=1,\n",
    "                                                      file_name=f\"GO_{moduleName}_2023\")"
   ]
  },
  {
   "cell_type": "code",
   "execution_count": null,
   "metadata": {},
   "outputs": [],
   "source": [
    "pyWGCNA_reprog_grouped.figureType = \"png\"\n",
    "gene_set_library = [\"KEGG_2021_Human\"]\n",
    "pyWGCNA_reprog_grouped.functional_enrichment_analysis(type=\"KEGG\",\n",
    "                                                      moduleName=moduleName,\n",
    "                                                      sets=gene_set_library,\n",
    "                                                      p_value=0.05)"
   ]
  },
  {
   "cell_type": "code",
   "execution_count": null,
   "metadata": {},
   "outputs": [],
   "source": [
    "pyWGCNA_reprog_grouped.figureType = \"pdf\"\n",
    "pyWGCNA_reprog_grouped.functional_enrichment_analysis(type=\"REACTOME\",\n",
    "                                                      moduleName=moduleName,\n",
    "                                                      p_value=0.05)"
   ]
  },
  {
   "cell_type": "markdown",
   "metadata": {},
   "source": [
    "```{admonition} Exercise 1\n",
    ":class: dropdown\n",
    "Repeat GO analysis for the other modules and describe the outcomes. What else could we do to perform functional enrichment? (0.5 pts)\n",
    "```"
   ]
  },
  {
   "cell_type": "markdown",
   "metadata": {},
   "source": [
    "```{admonition} Exercise 2\n",
    ":class: dropdown\n",
    "Using top-10 hub genes, try to make an informed guess about the functional enrichments of each module (0.5 pts)\n",
    "```"
   ]
  },
  {
   "cell_type": "markdown",
   "metadata": {},
   "source": [
    "# Part III. Visualizing networks with PyWGCNA"
   ]
  },
  {
   "cell_type": "markdown",
   "metadata": {},
   "source": [
    "After you finding your modules, you can plot each module or all modules together as a network."
   ]
  },
  {
   "cell_type": "markdown",
   "metadata": {},
   "source": [
    "You can plot each module as a network using the `CoexpressionModulePlot()` function. This will save the plot as an html file in the output directory figures/network with the module name. For this example, it will save at figures/network/black.html.\n",
    "\n",
    "You can define the number of genes and connections you want to see and the minimum TOM value to be considered a connection or not.\n",
    "\n",
    "The HTML file is an interactive network so if you click on any nodes you can see additional information about each node (gene).\n"
   ]
  },
  {
   "cell_type": "code",
   "execution_count": null,
   "metadata": {},
   "outputs": [],
   "source": [
    "pyWGCNA_reprog_grouped.CoexpressionModulePlot(modules=[moduleName], numGenes=10, numConnections=100, minTOM=0)"
   ]
  },
  {
   "cell_type": "markdown",
   "metadata": {},
   "source": [
    "\n",
    "You can also filter genes based on the information you have in `datExpr.var`. Imagine we only want to see protein coding genes in the black module."
   ]
  },
  {
   "cell_type": "code",
   "execution_count": null,
   "metadata": {},
   "outputs": [],
   "source": [
    "filters = {\"gene_biotype\": [\"protein_coding\"]}\n",
    "pyWGCNA_reprog_grouped.CoexpressionModulePlot(modules=[moduleName], filters=filters, file_name=f\"{moduleName}_protein_coding\")"
   ]
  },
  {
   "cell_type": "markdown",
   "metadata": {},
   "source": [
    "```{admonition} Exercise 3\n",
    ":class: dropdown\n",
    "Draw coexpression plots for every module using protein coding genes only and try to assume biological meaning behind each module's networks (1 pt)\n",
    "```"
   ]
  },
  {
   "cell_type": "markdown",
   "metadata": {},
   "source": [
    "If you want to display a network for more than one module and to show the connections between each module, you can simply provide a list of modules to the `CoexpressionModulePlot()` function."
   ]
  },
  {
   "cell_type": "markdown",
   "metadata": {},
   "source": [
    "```{admonition} Exercise 4\n",
    ":class: dropdown\n",
    "Draw coexpression plots for all modules combined. You might find it useful to play around with filters and with the `numGenes` and `numConnections` variables. Don't forget to set `file_name=\"all\"` to save it as a separate file (1.5 pts)\n",
    "```"
   ]
  },
  {
   "cell_type": "markdown",
   "metadata": {},
   "source": [
    "# Part IV. The real (home)work"
   ]
  },
  {
   "cell_type": "markdown",
   "metadata": {},
   "source": [
    "```{admonition} Exercise 5\n",
    ":class: dropdown\n",
    "Perform weighted gene-coexpression network analysis for the CpG sites (in our reprogramming dataset) located outside of promoters and try to make some conclusions about the dynamics of DNA methylation in all modules that you've managed to find, both in promoters and non-promoters. You are expected to provide these conclusions as a list of no less than three concise bullet points (5 pts)\n",
    "```"
   ]
  }
 ],
 "metadata": {
  "kernelspec": {
   "display_name": "cba_course",
   "language": "python",
   "name": "python3"
  },
  "language_info": {
   "codemirror_mode": {
    "name": "ipython",
    "version": 3
   },
   "file_extension": ".py",
   "mimetype": "text/x-python",
   "name": "python",
   "nbconvert_exporter": "python",
   "pygments_lexer": "ipython3",
   "version": "3.10.12"
  }
 },
 "nbformat": 4,
 "nbformat_minor": 4
}
