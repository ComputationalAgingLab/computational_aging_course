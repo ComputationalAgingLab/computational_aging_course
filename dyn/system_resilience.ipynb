{
 "cells": [
  {
   "attachments": {},
   "cell_type": "markdown",
   "metadata": {},
   "source": [
    "# System resilience\n",
    "\n",
    "*What distinguishes biological systems from physical ones? - Biological systems perform computations.*\n",
    "\n",
    "Example of system resilience problem\n",
    "\n",
    "At some point of accumulating evidences about object of study we stop just speculating about its properties and start mathematical modelling. \n",
    "\n",
    "**Plan**\n",
    "* Recap differential equations\n",
    "    * linear ODE\n",
    "    * nonlinear ODE\n",
    "    * numerical integration\n",
    "* Stability theory and bifurcations\n",
    "    * Lyapunov stability\n",
    "    * Potential equation\n",
    "    * Tipping points and bifurcations (fold bifurcation)\n",
    "    * Example of system\n",
    "* System ODE\n",
    "    * Stability in linear multidimensional case\n",
    "    * Nonlinear systems\n",
    "    * Linear approximations around tipping point\n",
    "    * Univesality principle\n",
    "    * Example complex system aging and \n",
    "* Critical slowing down\n",
    "    * real data case\n",
    "    * construct resilience indicator from data?\n",
    "    * fitting a stochastic differential equation from data?\n",
    "    * resilience analysis and maximal theoretical lifespan prediction.\n"
   ]
  },
  {
   "attachments": {},
   "cell_type": "markdown",
   "metadata": {},
   "source": [
    "## Recap differential equations\n",
    "\n",
    "Differential equation is a very useful instrument for understanding and modeling real biological processes. Once you develop a basic intuition on differential equation you will see the world as a set of dynamic systes. What is a dynamic systems? Well, everything! Everything what we may observe evolving in time could be (and possibly must be) described with this instrument.\n",
    "\n",
    "In general, a differential equation is written as\n",
    "\n",
    "$$\n",
    "  \\dot{x} = f(x, t)\n",
    "$$ (diff_eq)\n",
    "\n",
    "where f(x, t) - given function of time $t$ and state variable $x$ itself. Note, that $x=x(t)$ is also a function of time, hence, $\\dot{x} = dx(t)/dt = dx/dt$ - we omit $(t)$ for simplicity. A huge body of knowledge of differential equations theory has been elaborated for ages. In this tutorial we only touch the most important topics needed for understanding complex systems resilience introduced in the previous chapter."
   ]
  },
  {
   "attachments": {},
   "cell_type": "markdown",
   "metadata": {},
   "source": [
    "### Linear ordinary differential equations\n",
    "\n",
    "First, let's start from the most simplest cases of so called growth/death models. Let:\n",
    "\n",
    "$$ \n",
    "    \\dot{x} = a \n",
    "$$\n",
    "\n",
    "here $a$ is a constant;\n",
    "\n",
    "$$ \n",
    "    \\frac{dx}{dt} = a \n",
    "$$\n",
    "$$ \n",
    "    dx = a\\cdot dt \n",
    "$$\n",
    "\n",
    "integrate both sides,\n",
    "\n",
    "$$ \n",
    "    \\int dx = a \\int dt \n",
    "$$\n",
    "$$\n",
    "    x(t) = at + C\n",
    "$$ (ex_sol_1)\n",
    "\n",
    "where constant $C$ is defined from initial conditions. This is the simplest case of separable equation (s.t. you can separate variable $x$ from $t$ on both sides) describes **linear growth** of $x$. For example, the amount of water accumulated in water tank fed by pipe. The next case:\n",
    "\n",
    "$$ \n",
    "    \\dot{x} = ax \n",
    "$$\n",
    "$$ \n",
    "    \\int \\frac{dx}{x} = a\\int dt \n",
    "$$\n",
    "$$ \n",
    "    \\ln(x(t)) = at + C\n",
    "$$\n",
    "$$ \n",
    "    x(t) = e^Ce^{at} = C_1e^{at}\n",
    "$$ (ex_sol_2)\n",
    "\n",
    "This equation describes dynamis of so called **exponential growth/death** depending on the sign of the coeffcicient $a$. One common example of a system described by this equation is a number of bacteria in a petri dish in case when resources for the growth are unlimited. Indeed, you know that number of bacteria next day depends on the number of bacteria on the previous day. Thus, the differential equation has the form $\\dot{x} = ax$ and has a solution in a form of exponential growth.\n",
    "\n",
    "Let's draw the solutions {eq}`ex_sol_1`, {eq}`ex_sol_2`.  "
   ]
  },
  {
   "cell_type": "code",
   "execution_count": 3,
   "metadata": {},
   "outputs": [
    {
     "data": {
      "image/png": "[encoded data removed]",
      "text/plain": [
       "<Figure size 432x288 with 1 Axes>"
      ]
     },
     "metadata": {
      "needs_background": "light"
     },
     "output_type": "display_data"
    }
   ],
   "source": [
    "import matplotlib.pyplot as plt\n",
    "import numpy as np\n",
    "plt.rcParams['font.size'] = '16' # increase font size\n",
    "\n",
    "x1 = lambda t, a, C: a*t + C\n",
    "x2 = lambda t, a, C: np.exp(a*t) * np.exp(C)\n",
    "\n",
    "t = np.linspace(0, 1.5, 100)\n",
    "C = 1\n",
    "\n",
    "fig, ax = plt.subplots(1, 1)\n",
    "ax.set_xlabel('Time')\n",
    "ax.set_ylabel('Value')\n",
    "ax.plot(t, x1(t, 1, C), label='$\\dot{x} = 1$');\n",
    "ax.plot(t, x2(t, 1, C), label='$\\dot{x} = x$');\n",
    "ax.plot(t, x2(t, -1, C), label='$\\dot{x} = -x$');\n",
    "ax.axhline(0, color='grey', ls='--')\n",
    "ax.axvline(0, color='grey', ls='--')\n",
    "ax.grid(alpha=0.5)\n",
    "ax.legend();"
   ]
  },
  {
   "attachments": {},
   "cell_type": "markdown",
   "metadata": {},
   "source": [
    "Two important observations: (1) the solution of equation {eq}`ex_sol_1` is always diverges, i.e there is no non-zero constant $Const$ such that $x(\\infty) \\to Const$; (2) the solution of equation {eq}`ex_sol_2` has three regimes: one at positive constant $a$ - divergence (exponential growth), one at negative $a$ - convergence to zero (exponential decay), and one at $a=0$ - trivial case with no dynamics. Adjusting constant $a$ continiously leads to switching between regimes which is something that we call **bifurcation** and will study in further. In other words. they say a system undergoes a bifurcation as $a$ approaches to zero (from left or right side). Of course, in this case that the system changes its behavior **qualitatively**."
   ]
  },
  {
   "attachments": {},
   "cell_type": "markdown",
   "metadata": {},
   "source": [
    "### Non-linear ordinary differential equations\n",
    "\n",
    "Linear differential equations and systems of them porvides a lot of possibilities for modelling technical and living systems. However, already in case of bacteria growth modeling with limited resources we force the need to use quadratic models. This is where logistic model appears:\n",
    "\n",
    "$$ \n",
    "    \\dot{x} = rx(1 - \\frac{x}{K}) \n",
    "$$\n",
    "\n",
    "here we introduced two additional parameters: $r$ - growth rate, and $K$ - carrying capacity. To understand this equation deeper let's rewrite it in expanded form:\n",
    "\n",
    "$$ \n",
    "    \\dot{x} = rx - \\frac{rx^2}{K} =  rx - \\delta x^2\n",
    "$$\n",
    "\n",
    "The first term is a growth term responsible for the increase of number of bacteria with rate $r$. The second term is more tricky and suddenly quadratic with a new parameter $\\delta = r/K$ which is interpreted as death rate. The idea of second term is that after $x$ becomes quite large number the growth must rapidly slow down modelling, thus, a deficit of resources. The good idea to use for that a quadratic term which increases faster than linear and not so hard for computation. But the right question here is: \"why not cubic or exponent or something else?\". It turns out that the quadratic term is a good approximation of the behavior of real-world cases of growth. One additional intuition behind quadratic term is that it reflects pairwise interactions of $x$ species, which can we may interpret as a competition for resources.\n",
    "\n",
    "Let's solve it:\n",
    "\n",
    "$$ \n",
    "    \\frac{dx}{dt} = rx(1 - \\frac{x}{K}) \n",
    "$$\n",
    "$$ \n",
    "    \\frac{dx}{x(1 - \\frac{x}{K}) } = rdt\n",
    "$$\n",
    "\n",
    "split left part by sum of fractions with some unknown (yet) coefficients $A$ and $B$:\n",
    "\n",
    "$$ \n",
    "    \\frac{Adx}{x} + \\frac{Bdx}{(1 - \\frac{x}{K}) } = rdt\n",
    "$$\n",
    "\n",
    "consider the following equation for the nominator:\n",
    "$$ \n",
    "    A(1 - \\frac{x}{K})dx + Bxdx = dx\n",
    "$$\n",
    "$$ \n",
    "    A(1 - \\frac{x}{K}) + Bx = 1\n",
    "$$\n",
    "$$ \n",
    "    A - A\\frac{x}{K} + Bx = 1\n",
    "$$\n",
    "$$ \n",
    "    A - x(\\frac{A}{K} + B) = 1\n",
    "$$\n",
    "from the obtained equation we can compose the following system:\n",
    "$$\n",
    "\\begin{cases}\n",
    "    -\\frac{A}{K} + B = 0 \\rightarrow B = \\frac{A}{K}\\\\\n",
    "    A = 1\\\\\n",
    "\\end{cases}\n",
    "$$\n",
    "Thus, we have\n",
    "$$ \n",
    "    \\frac{dx}{x} + \\frac{\\frac{1}{K}dx}{(1 - \\frac{x}{K}) } = rdt\n",
    "$$\n",
    "$$ \n",
    "    \\int\\frac{dx}{x} + \\frac{1}{K}\\int\\frac{dx}{(1 - \\frac{x}{K}) } = \\int rdt\n",
    "$$\n",
    "$$ \n",
    "    \\ln(x) - \\ln(1 - \\frac{x}{K}) = rt + C\n",
    "$$\n",
    "$$ \n",
    "    \\ln(\\frac{x}{1 - \\frac{x}{K}}) = rt + C\n",
    "$$\n",
    "$$ \n",
    "    \\frac{x}{1 - \\frac{x}{K}} = C_1e^{rt}\n",
    "$$\n",
    "\n",
    "It is easy to see that $C_1$ can be computed from initial value problem (at $t=0$) as following:\n",
    "\n",
    "$$ \n",
    "    C_1 = \\frac{x_0}{1 - \\frac{x_0}{K}} = \\frac{Kx_0}{K - x_0}\n",
    "$$\n",
    "\n",
    "where $x_0 = x(t=0)$ correspondingly. After expressing $x$ from the integral above have:\n",
    "\n",
    "$$ \n",
    "    x(t) = \\frac{K}{1 + \\frac{K - x_0}{x_0}e^{-rt}}\n",
    "$$ (ex_sol_3)\n",
    "\n",
    "What regimes are possible for this solution? Let's suppose that carrying capacity $K=1$, initial population $x_0=0.5$ and explore graphically the dynamics at different $r$:"
   ]
  },
  {
   "cell_type": "code",
   "execution_count": 36,
   "metadata": {},
   "outputs": [
    {
     "data": {
      "image/png": "[encoded data removed]",
      "text/plain": [
       "<Figure size 576x432 with 1 Axes>"
      ]
     },
     "metadata": {
      "needs_background": "light"
     },
     "output_type": "display_data"
    }
   ],
   "source": [
    "import matplotlib.pyplot as plt\n",
    "import numpy as np\n",
    "plt.rcParams['font.size'] = '16' # increase font size\n",
    "\n",
    "x3 = lambda t, K, r, x0: K / (1 + (K - x0) / x0 * np.exp(-r * t))\n",
    "\n",
    "t = np.linspace(0, 4, 100)\n",
    "\n",
    "fig, ax = plt.subplots(1, 1, figsize=(8,6))\n",
    "ax.set_xlabel('Time')\n",
    "ax.set_ylabel('Population size')\n",
    "for r in [-2, 0, 0.5, 2]:\n",
    "    ax.plot(t, x3(t, 1, r, 0.5), label=f'$r = {r}$');\n",
    "\n",
    "ax.plot(t, x3(t, 1, 1, 1.3), label=f'$x_0 = 1.3; r = 2$'); # another initial condition\n",
    "ax.axhline(0, color='grey', ls='--')\n",
    "ax.axhline(1, color='grey', ls='--')\n",
    "ax.axvline(0, color='grey', ls='--')\n",
    "ax.grid(alpha=0.5)\n",
    "ax.legend(loc='lower right');"
   ]
  },
  {
   "attachments": {},
   "cell_type": "markdown",
   "metadata": {},
   "source": [
    "Excellent! We solved a new kind of dynamical system describing bacterial growth with limited resources. As before we observe three different regimes for $r>0$ - logistic growth; $r=0$ - no dynamics; $r<0$ - logistic decay (not exponential!). But we also see something new, our solutions for growth are bounded with carrying capacity $K=1$ and, for all initial conditions (even for larger than $K$), trajectories *attracts* to a fixed value $K$ which is called **attractor**. In the next chapter we will address more to attractors, but before that, we need to learn what to do with non-integrable non-linear differential equations."
   ]
  },
  {
   "attachments": {},
   "cell_type": "markdown",
   "metadata": {},
   "source": [
    "```{admonition} Exercise\n",
    ":class: dropdown\n",
    "What kind of growth exhibits equation $\\dot{x} = a*x^2$? Solve the equation for positive $a$ and $x_0 > 0$. What strange about this model? What is the name of this model (try to google or chatGPT it)?\n",
    "```\n",
    "\n"
   ]
  },
  {
   "cell_type": "markdown",
   "metadata": {},
   "source": [
    "### Numerical integration"
   ]
  },
  {
   "cell_type": "markdown",
   "metadata": {},
   "source": [
    "\n",
    "\n",
    "{cite}`gao2016universal`\n",
    "\n",
    "Cite Kapitza model of human population\n"
   ]
  },
  {
   "cell_type": "markdown",
   "metadata": {},
   "source": [
    "## Stability theory and bifurcations"
   ]
  },
  {
   "cell_type": "markdown",
   "metadata": {},
   "source": [
    "## System of differential equations\n",
    "\n",
    "consider $\\ddot{x} = f(x)$"
   ]
  },
  {
   "cell_type": "markdown",
   "metadata": {},
   "source": [
    "## Recap differential equations"
   ]
  },
  {
   "attachments": {},
   "cell_type": "markdown",
   "metadata": {},
   "source": [
    "# Learn More\n",
    "\n",
    "[Principles of Biological Design (Lectures)](https://www.youtube.com/playlist?list=PLcv1wv7ZF5IXWunUDAiQym866-MntorVp) \\\n",
    "[Dynamical Systems with Applications using Python](https://link.springer.com/book/10.1007/978-3-319-78145-7)\n"
   ]
  },
  {
   "cell_type": "markdown",
   "metadata": {},
   "source": []
  }
 ],
 "metadata": {
  "kernelspec": {
   "display_name": "Python 3.9.12 ('base')",
   "language": "python",
   "name": "python3"
  },
  "language_info": {
   "codemirror_mode": {
    "name": "ipython",
    "version": 3
   },
   "file_extension": ".py",
   "mimetype": "text/x-python",
   "name": "python",
   "nbconvert_exporter": "python",
   "pygments_lexer": "ipython3",
   "version": "3.9.12"
  },
  "vscode": {
   "interpreter": {
    "hash": "9cc5c02ec159c51136dfe17d30cc7c517e8bd5f837511b190fe7a062de554837"
   }
  },
  "widgets": {
   "application/vnd.jupyter.widget-state+json": {
    "state": {},
    "version_major": 2,
    "version_minor": 0
   }
  }
 },
 "nbformat": 4,
 "nbformat_minor": 4
}
